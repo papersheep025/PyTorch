{
 "cells": [
  {
   "cell_type": "markdown",
   "source": [
    "数据操作"
   ],
   "metadata": {
    "collapsed": false
   }
  },
  {
   "cell_type": "code",
   "execution_count": null,
   "outputs": [],
   "source": [
    "import torch\n",
    "\n",
    "# 初始化一个0-11的张量\n",
    "x = torch.arange(12)\n",
    "x = torch.arange(12, dtype=torch.float32).reshape((3, 4))\n",
    "\n",
    "# Out\n",
    "# x : tensor([ 0,  1,  2,  3,  4,  5,  6,  7,  8,  9, 10, 11])\n",
    "# x.shape : torch.Size([12])\n",
    "# x.numel() : 12\n",
    "\n",
    "# 改变张量形状\n",
    "# x = x.reshape(3, 4)\n",
    "# x = tensor([[ 0,  1,  2,  3],\n",
    "#             [ 4,  5,  6,  7],\n",
    "#             [ 8,  9, 10, 11]])\n",
    "\n",
    "# 创造全为 0和全为 1的张量\n",
    "# y = torch.zeros(3, 4)\n",
    "# z = torch.ones(3, 4)\n",
    "\n",
    "# 创建特定值张量\n",
    "a = torch.tensor([[2, 1, 4, 3], [1, 2, 3, 4], [4, 3, 2, 1]])  # 二维 tensor\n",
    "b = torch.tensor([[[2, 1, 4, 3], [1, 2, 3, 4], [4, 3, 2, 1]]])  # 三维 tensor（比上面的多一组中括号）\n",
    "# 张量的运算\n",
    "y = torch.tensor([2, 2, 2, 2])\n",
    "print(x + y)\n",
    "print(x - y)\n",
    "print(x * y)\n",
    "print(x / y)\n",
    "print(x ** y)\n",
    "print(torch.exp(x))\n",
    "# 逻辑运算\n",
    "print(x == y)\n",
    "# 张量合并\n",
    "# m = torch.cat((x, y), dim=0)  # 按行合并\n",
    "# n = torch.cat((x, y), dim=1)  # 按列合并\n",
    "print(x.sum)  # 张量累加运算\n",
    "print(x[1:3])  # 显示第二、三行\n",
    "\n",
    "# 张量转 numpy\n",
    "A = x.numpy()\n",
    "B = torch.tensor(A)\n",
    "print(type(A), type(B))"
   ],
   "metadata": {
    "collapsed": false
   }
  },
  {
   "cell_type": "markdown",
   "source": [
    "数据预处理"
   ],
   "metadata": {
    "collapsed": false
   }
  },
  {
   "cell_type": "code",
   "execution_count": null,
   "outputs": [],
   "source": [
    "import torch\n",
    "import pandas as pd\n",
    "import os\n",
    "\n",
    "os.makedirs(os.path.join('.', '01_Data'), exist_ok=True)  # 相对路径，创建文件夹\n",
    "data_file = os.path.join('.', '01_Data', '01_house_tiny.csv')\n",
    "with open(data_file, 'w') as f:\n",
    "    f.write('NumRooms,Alley,Price\\n')  # 列名\n",
    "    f.write('NA,Pave,127500\\n')  # 每行表示一个数据样本\n",
    "    f.write('2,NA,106000\\n')\n",
    "    f.write('4,NA,178100\\n')\n",
    "    f.write('NA,NA,140000\\n')\n",
    "\n",
    "data_file = os.path.join('.', '01_Data', '01_house_tiny.csv')\n",
    "data = pd.read_csv(data_file)\n",
    "print(data)\n",
    "#    NumRooms Alley   Price\n",
    "# 0       NaN  Pave  127500\n",
    "# 1       2.0   NaN  106000\n",
    "# 2       4.0   NaN  178100\n",
    "# 3       NaN   NaN  140000\n",
    "\n",
    "# 数据集转张量\n",
    "inputs, outputs = data.iloc[:,0:2], data.iloc[:,2]\n",
    "inputs = inputs.fillna(inputs.mean())  # 对 NaN 值用均值插值\n",
    "inputs = pd.get_dummies(inputs, dummy_na=True)  # dummy_na=True 使得 Alley中的每种类型为一列，在各自的列中该类型为1，其余类型为0\n",
    "print(inputs)\n",
    "x, y = torch.tensor(inputs.values), torch.tensor(outputs.values)\n",
    "print(x)\n",
    "print(y)"
   ],
   "metadata": {
    "collapsed": false
   }
  }
 ],
 "metadata": {
  "kernelspec": {
   "display_name": "Python 3",
   "language": "python",
   "name": "python3"
  },
  "language_info": {
   "codemirror_mode": {
    "name": "ipython",
    "version": 2
   },
   "file_extension": ".py",
   "mimetype": "text/x-python",
   "name": "python",
   "nbconvert_exporter": "python",
   "pygments_lexer": "ipython2",
   "version": "2.7.6"
  }
 },
 "nbformat": 4,
 "nbformat_minor": 0
}
