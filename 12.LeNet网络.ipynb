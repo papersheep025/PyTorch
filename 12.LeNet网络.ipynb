{
 "cells": [
  {
   "cell_type": "markdown",
   "source": [
    "LeNet"
   ],
   "metadata": {
    "collapsed": false
   }
  },
  {
   "cell_type": "code",
   "execution_count": null,
   "outputs": [],
   "source": [
    "import torch\n",
    "from torch import nn\n",
    "from d2l import torch as d2l\n",
    "\n",
    "\n",
    "# 重塑张量函数\n",
    "class Reshape(torch.nn.Module):\n",
    "    def forward(self,x):\n",
    "        return x.view(-1,1,28,28)  # -1 在 view 方法中的意义是依据其他维度的值自动推算出该维度的大小\n",
    "\n",
    "\n",
    "# LeNet\n",
    "net = torch.nn.Sequential(\n",
    "    Reshape(), nn.Conv2d(1,6,kernel_size=5,padding=2),nn.Sigmoid(),  # 第一个卷积层\n",
    "    nn.AvgPool2d(2,stride=2),  # 第一个平均池化层\n",
    "    nn.Conv2d(6,16,kernel_size=5),nn.Sigmoid(),  # 第二个卷积层\n",
    "    nn.AvgPool2d(kernel_size=2,stride=2),nn.Flatten(),  # 第二个平均池化层\n",
    "    nn.Linear(16*5*5, 120),nn.Sigmoid(),  # 输入层\n",
    "    nn.Linear(120, 84),nn.Sigmoid(),  # 隐藏层\n",
    "    nn.Linear(84, 10)  # 输出层\n",
    ")"
   ],
   "metadata": {
    "collapsed": false
   }
  },
  {
   "cell_type": "markdown",
   "source": [
    "LeNet训练Fashion-MNIST数据集"
   ],
   "metadata": {
    "collapsed": false
   }
  },
  {
   "cell_type": "code",
   "execution_count": null,
   "outputs": [],
   "source": [
    "import torch\n",
    "from torch import nn\n",
    "from d2l import torch as d2l\n",
    "import os\n",
    "\n",
    "os.environ['KMP_DUPLICATE_LIB_OK'] = 'True'\n",
    "\n",
    "\n",
    "class Reshape(torch.nn.Module):\n",
    "    def forward(self,x):\n",
    "        return x.view(-1,1,28,28)\n",
    "\n",
    "\n",
    "# LeNet\n",
    "net = torch.nn.Sequential(\n",
    "    Reshape(), nn.Conv2d(1,6,kernel_size=5,padding=2),nn.Sigmoid(),  # 第一个卷积层\n",
    "    nn.AvgPool2d(2,stride=2),  # 第一个平均池化层\n",
    "    nn.Conv2d(6,16,kernel_size=5),nn.Sigmoid(),  # 第二个卷积层\n",
    "    nn.AvgPool2d(kernel_size=2,stride=2),nn.Flatten(),  # 第二个平均池化层\n",
    "    nn.Linear(16*5*5, 120),nn.Sigmoid(),  # 输入层\n",
    "    nn.Linear(120, 84),nn.Sigmoid(),  # 隐藏层\n",
    "    nn.Linear(84, 10)  # 输出层\n",
    ")\n",
    "\n",
    "# 加载数据集\n",
    "help(d2l.load_data_fashion_mnist)\n",
    "\n",
    "batch_size = 256\n",
    "train_iter, test_iter = d2l.load_data_fashion_mnist(batch_size=batch_size)\n",
    "\n",
    "\n",
    "# 使用GPU计算模型在数据集上的精度\n",
    "def evaluate_accuracy_gpu(net, data_iter, device=None):\n",
    "    if isinstance(net, torch.nn.Module):\n",
    "        net.eval()  # net.eval()开启验证模式，不用计算梯度和更新梯度\n",
    "        if not device:\n",
    "            device = next(iter(net.parameters())).device  # 看net.parameters()中第一个元素的device为哪里\n",
    "    metric = d2l.Accumulator(2)\n",
    "    for X, y in data_iter:\n",
    "        if isinstance(X,list):\n",
    "            X = [x.to(device) for x in X]  # 如果X是个List，则把每个元素都移到device上\n",
    "        else:\n",
    "            X = X.to(device)  # 如果X是一个Tensor，则只用移动一次，直接把X移动到device上\n",
    "        y = y.to(device)\n",
    "        metric.add(d2l.accuracy(net(X),y),y.numel())  # y.numel()为 y元素个数\n",
    "    return metric[0]/metric[1]\n",
    "\n",
    "\n",
    "def train_ch6(net, train_iter, test_iter, num_epochs, lr, device):\n",
    "    \"\"\"Train a model with a GPU\"\"\"\n",
    "\n",
    "    def init_weights(m):\n",
    "        if type(m) == nn.Linear or type(m) == nn.Conv2d:\n",
    "            nn.init.xavier_uniform_(m.weight)  # 根据输入、输出大小，使得随即初始化后，输入和输出的的方差是差不多的\n",
    "\n",
    "    net.apply(init_weights)\n",
    "    print('training on', device)\n",
    "    net.to(device)\n",
    "    optimizer = torch.optim.SGD(net.parameters(), lr=lr)\n",
    "    loss = nn.CrossEntropyLoss()\n",
    "    animator = d2l.Animator(xlabel='epoch', xlim=[1, num_epochs],\n",
    "                            legend=['train loss', 'train acc', 'test acc'])\n",
    "    timer, num_batches = d2l.Timer(), len(train_iter)\n",
    "\n",
    "    for epoch in range(num_epochs):\n",
    "        metric = d2l.Accumulator(3)\n",
    "        net.train()\n",
    "\n",
    "        for i, (X, y) in enumerate(train_iter):\n",
    "            timer.start()\n",
    "            optimizer.zero_grad()\n",
    "            X, y = X.to(device), y.to(device)\n",
    "            y_hat = net(X)\n",
    "            l = loss(y_hat, y)\n",
    "            l.backward()\n",
    "            optimizer.step()\n",
    "            with torch.no_grad():\n",
    "                metric.add(l * X.shape[0], d2l.accuracy(y_hat, y), X.shape[0])\n",
    "            timer.stop()\n",
    "            train_l = metric[0] / metric[2]\n",
    "            train_acc = metric[1] / metric[2]\n",
    "\n",
    "            if (i + 1) % (num_batches // 5) == 0 or i == num_batches - 1:\n",
    "                animator.add(epoch + (i + 1) / num_batches,\n",
    "                             (train_l, train_acc, None))\n",
    "        test_acc = evaluate_accuracy_gpu(net, test_iter)\n",
    "        animator.add(epoch + 1, (None, None, test_acc))\n",
    "\n",
    "    print(f'loss {train_l:.3f},train acc {train_acc:.3f},'f'test acc {test_acc:.3f}')\n",
    "\n",
    "    print(f'{metric[2] * num_epochs / timer.sum():.1f} examples/sec'f'on{str(device)}')\n",
    "\n",
    "\n",
    "help(nn.init.xavier_uniform_)\n",
    "\n",
    "# 训练和评估LeNet-5模型\n",
    "lr, num_epochs = 0.9, 10\n",
    "train_ch6(net, train_iter, test_iter, num_epochs, lr, d2l.try_gpu())\n",
    "\n",
    "d2l.plt.show()"
   ],
   "metadata": {
    "collapsed": false
   }
  }
 ],
 "metadata": {
  "kernelspec": {
   "display_name": "Python 3",
   "language": "python",
   "name": "python3"
  },
  "language_info": {
   "codemirror_mode": {
    "name": "ipython",
    "version": 2
   },
   "file_extension": ".py",
   "mimetype": "text/x-python",
   "name": "python",
   "nbconvert_exporter": "python",
   "pygments_lexer": "ipython2",
   "version": "2.7.6"
  }
 },
 "nbformat": 4,
 "nbformat_minor": 0
}
