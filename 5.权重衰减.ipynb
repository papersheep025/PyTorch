{
 "cells": [
  {
   "cell_type": "markdown",
   "source": [
    "权重衰减等价于L2范数正则化，是常见的处理过拟合的一种方法。"
   ],
   "metadata": {
    "collapsed": false
   }
  },
  {
   "cell_type": "markdown",
   "source": [
    "权重衰减通过在损失函数中加入权重的平方和乘以一个正则化参数来进行控制。这个正则化参数决定了权重衰减的强度。通过加入这个正则化项，模型在进行训练时会尽量减小权重的大小，防止模型对于训练数据过度拟合。\n",
    "\n",
    "在优化过程中，权重衰减可以被看作是对每个权重施加一个额外的惩罚项，使得模型更倾向于学习到的权重更小的解决方案。这样做的目的是为了在模型的复杂度和准确度之间找到一个平衡点，以提高模型的泛化能力。"
   ],
   "metadata": {
    "collapsed": false
   }
  },
  {
   "cell_type": "markdown",
   "source": [],
   "metadata": {
    "collapsed": false
   }
  },
  {
   "cell_type": "markdown",
   "source": [
    "权重衰减（使用自定义）"
   ],
   "metadata": {
    "collapsed": false
   }
  },
  {
   "cell_type": "code",
   "execution_count": null,
   "outputs": [],
   "source": [
    "import torch\n",
    "from torch import nn\n",
    "from d2l import torch as d2l\n",
    "import os\n",
    "\n",
    "os.environ['KMP_DUPLICATE_LIB_OK'] = 'True'\n",
    "\n",
    "n_train, n_test, num_inputs, batch_size = 20, 100, 200, 5  # 数据越简单，模型越复杂，越容易过拟合。num_inputs为特征维度\n",
    "true_w, true_b = torch.ones((num_inputs, 1)) * 0.01, 0.05\n",
    "train_data = d2l.synthetic_data(true_w, true_b, n_train)  # 生成人工数据集\n",
    "train_iter = d2l.load_array(train_data, batch_size)\n",
    "test_data = d2l.synthetic_data(true_w, true_b, n_test)\n",
    "test_iter = d2l.load_array(test_data, batch_size, is_train=False)\n",
    "\n",
    "\n",
    "# 初始化模型参数\n",
    "def init_params():\n",
    "    w = torch.normal(0, 1, size=(num_inputs, 1), requires_grad=True)\n",
    "    b = torch.zeros(1, requires_grad=True)\n",
    "    return [w, b]\n",
    "\n",
    "\n",
    "# 定义L2范数惩罚\n",
    "def l2_penalty(w):\n",
    "    return torch.sum(w.pow(2)) / 2\n",
    "\n",
    "\n",
    "# 定义训练函数\n",
    "def train(lambd):\n",
    "    w, b = init_params()\n",
    "    net, loss = lambda X: d2l.linreg(X, w, b), d2l.squared_loss\n",
    "    num_epochs, lr = 100, 0.003\n",
    "    animator = d2l.Animator(xlabel='epoch', ylabel='loss', yscale='log', xlim=[5, num_epochs], legend=['train', 'test'])\n",
    "    for epoch in range(num_epochs):\n",
    "        for X, y in train_iter:\n",
    "            l = loss(net(X), y) + lambd * l2_penalty(w)\n",
    "            l.sum().backward()\n",
    "            d2l.sgd([w, b], lr, batch_size)\n",
    "        if (epoch + 1) % 5 == 0:\n",
    "            if (epoch + 1) % 5 == 0:\n",
    "                animator.add(epoch + 1,\n",
    "                             (d2l.evaluate_loss(net, train_iter, loss), d2l.evaluate_loss(net, test_iter, loss)))\n",
    "    print('w的L2范数是：', torch.norm(w).item())\n",
    "\n",
    "\n",
    "train(lambd=0)\n",
    "\n",
    "d2l.plt.show()"
   ],
   "metadata": {
    "collapsed": false
   }
  },
  {
   "cell_type": "markdown",
   "source": [
    "权重衰减（使用框架）"
   ],
   "metadata": {
    "collapsed": false
   }
  },
  {
   "cell_type": "code",
   "execution_count": null,
   "outputs": [],
   "source": [
    "import torch\n",
    "from torch import nn\n",
    "from d2l import torch as d2l\n",
    "import os\n",
    "\n",
    "os.environ['KMP_DUPLICATE_LIB_OK'] = 'True'\n",
    "\n",
    "n_train, n_test, num_inputs, batch_size = 20, 100, 200, 5  # 数据越简单，模型越复杂，越容易过拟合。num_inputs为特征维度\n",
    "true_w, true_b = torch.ones((num_inputs, 1)) * 0.01, 0.05\n",
    "train_data = d2l.synthetic_data(true_w, true_b, n_train)  # 生成人工数据集\n",
    "train_iter = d2l.load_array(train_data, batch_size)\n",
    "test_data = d2l.synthetic_data(true_w, true_b, n_test)\n",
    "test_iter = d2l.load_array(test_data, batch_size, is_train=False)\n",
    "\n",
    "\n",
    "# 初始化模型参数\n",
    "def init_params():\n",
    "    w = torch.normal(0, 1, size=(num_inputs, 1), requires_grad=True)\n",
    "    b = torch.zeros(1, requires_grad=True)\n",
    "    return [w, b]\n",
    "\n",
    "\n",
    "# 定义L2范数惩罚\n",
    "def l2_penalty(w):\n",
    "    return torch.sum(w.pow(2)) / 2\n",
    "\n",
    "\n",
    "# 定义训练函数\n",
    "def train_concise(wd):\n",
    "    net = nn.Sequential(nn.Linear(num_inputs, 1))\n",
    "    for param in net.parameters():\n",
    "        param.data.normal_()\n",
    "    loss = nn.MSELoss()\n",
    "    num_epochs, lr = 100, 0.003\n",
    "    trainer = torch.optim.SGD([{\"params\": net[0].weight, \"weight_decay\": wd},\n",
    "                               {\"params\": net[0].bias}], lr=lr)\n",
    "    animator = d2l.Animator(xlabel='epoch', ylabel='loss', yscale='log',\n",
    "                            xlim=[5, num_epochs], legend=['train', 'test'])\n",
    "    for epoch in range(num_epochs):\n",
    "        for X, y in train_iter:\n",
    "            with torch.enable_grad():\n",
    "                trainer.zero_grad()\n",
    "                l = loss(net(X), y)\n",
    "            l.backward()  # 反向传播\n",
    "            trainer.step()\n",
    "            if (epoch + 1) % 5 == 0:\n",
    "                animator.add(epoch + 1, (d2l.evaluate_loss(net, train_iter, loss),\n",
    "                                         d2l.evaluate_loss(net, test_iter, loss)))\n",
    "    print('w的L2范数是', net[0].weight.norm().item())\n",
    "\n",
    "\n",
    "train_concise(0)\n",
    "\n",
    "d2l.plt.show()"
   ],
   "metadata": {
    "collapsed": false
   }
  }
 ],
 "metadata": {
  "kernelspec": {
   "display_name": "Python 3",
   "language": "python",
   "name": "python3"
  },
  "language_info": {
   "codemirror_mode": {
    "name": "ipython",
    "version": 2
   },
   "file_extension": ".py",
   "mimetype": "text/x-python",
   "name": "python",
   "nbconvert_exporter": "python",
   "pygments_lexer": "ipython2",
   "version": "2.7.6"
  }
 },
 "nbformat": 4,
 "nbformat_minor": 0
}
