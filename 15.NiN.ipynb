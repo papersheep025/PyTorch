{
 "cells": [
  {
   "cell_type": "markdown",
   "source": [
    "NiN——网络中的网络\n",
    "使用卷积层加两个1*1卷积层\n",
    "不容易过拟合，参数更少"
   ],
   "metadata": {
    "collapsed": false
   }
  },
  {
   "cell_type": "code",
   "execution_count": null,
   "outputs": [],
   "source": [
    "import torch\n",
    "from torch import nn\n",
    "from d2l import torch as d2l\n",
    "import os\n",
    "\n",
    "os.environ['KMP_DUPLICATE_LIB_OK'] = 'True'\n",
    "\n",
    "\n",
    "def nin_block(in_channels, out_channels, kernel_size, strides, padding):\n",
    "    return nn.Sequential(nn.Conv2d(in_channels, out_channels, kernel_size, strides,padding),\n",
    "                         nn.ReLU(), nn.Conv2d(out_channels, out_channels, kernel_size=1),\n",
    "                         nn.ReLU(), nn.Conv2d(out_channels, out_channels, kernel_size=1),\n",
    "                         nn.ReLU())\n",
    "\n",
    "\n",
    "net = nn.Sequential(nin_block(1,96,kernel_size=11,strides=4,padding=0),\n",
    "                   nn.MaxPool2d(3,stride=2),\n",
    "                   nin_block(96,256,kernel_size=5,strides=1,padding=2),\n",
    "                   nn.MaxPool2d(3,stride=2),\n",
    "                   nin_block(256,384,kernel_size=3,strides=1,padding=1),\n",
    "                   nn.MaxPool2d(3,stride=2),nn.Dropout(0.5),\n",
    "                   nin_block(384,10,kernel_size=3,strides=1,padding=1),\n",
    "                   nn.AdaptiveAvgPool2d((1,1)),\n",
    "                   nn.Flatten())\n",
    "\n",
    "\n",
    "# 查看每个块的输出形状\n",
    "X = torch.rand(size=(1,1,224,224))\n",
    "for layer in net:\n",
    "    X = layer(X)\n",
    "    print(layer.__class__.__name__, 'output shape:\\t', X.shape)\n",
    "\n",
    "lr, num_epochs, batch_size = 0.1, 10, 128\n",
    "train_iter, test_iter = d2l.load_data_fashion_mnist(batch_size, resize=224)\n",
    "d2l.train_ch6(net, train_iter, test_iter, num_epochs, lr, d2l.try_gpu())\n",
    "\n",
    "d2l.plt.show()"
   ],
   "metadata": {
    "collapsed": false
   }
  }
 ],
 "metadata": {
  "kernelspec": {
   "display_name": "Python 3",
   "language": "python",
   "name": "python3"
  },
  "language_info": {
   "codemirror_mode": {
    "name": "ipython",
    "version": 2
   },
   "file_extension": ".py",
   "mimetype": "text/x-python",
   "name": "python",
   "nbconvert_exporter": "python",
   "pygments_lexer": "ipython2",
   "version": "2.7.6"
  }
 },
 "nbformat": 4,
 "nbformat_minor": 0
}
