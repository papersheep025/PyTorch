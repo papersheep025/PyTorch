{
 "cells": [
  {
   "cell_type": "markdown",
   "source": [
    "正常拟合、欠拟合和过拟合（正常为三阶多项式）"
   ],
   "metadata": {
    "collapsed": false
   }
  },
  {
   "cell_type": "code",
   "execution_count": null,
   "outputs": [],
   "source": [
    "import math\n",
    "import numpy as np\n",
    "import torch\n",
    "from torch import nn\n",
    "from d2l import torch as d2l\n",
    "import os\n",
    "os.environ['KMP_DUPLICATE_LIB_OK'] = 'True'\n",
    "\n",
    "max_degree = 20  # 设置最大次数\n",
    "n_train, n_test = 100,100\n",
    "true_w = np.zeros(max_degree)\n",
    "true_w[0:4] = np.array([5,1.2,-3.4,5.6])  # 权重\n",
    "\n",
    "features = np.random.normal(size=(n_test+n_train,1))\n",
    "np.random.shuffle(features)  # 随机打乱 features中数据\n",
    "\n",
    "# 生成多项式\n",
    "poly_features = np.power(features, np.arange(max_degree).reshape(1,-1))\n",
    "#               进行幂运算          生成0-19的数值数组，对应次数   转化为行向量方便幂运算\n",
    "\n",
    "for i in range(max_degree):\n",
    "    poly_features[:,i] /= math.gamma(i+1)\n",
    "labels = np.dot(poly_features,true_w)\n",
    "labels += np.random.normal(scale=0.1,size=labels.shape)\n",
    "\n",
    "true_w, features, poly_features, labels = [torch.tensor(x,dtype=torch.float32) for x in [true_w, features, poly_features, labels]]\n",
    "\n",
    "# 实现一个函数来评估模型在给定数据集上的损失\n",
    "def evaluate_loss(net, data_iter, loss):\n",
    "    metric = d2l.Accumulator(2)  # 两个数的累加器\n",
    "    for X, y in data_iter:  # 从迭代器中拿出对应特征和标签\n",
    "        out = net(X)\n",
    "        y = y.reshape(out.shape)  # 将真实标签改为网络输出标签的形式，统一形式\n",
    "        l = loss(out, y)  # 计算网络输出的预测值与真实值之间的损失差值\n",
    "        metric.add(l.sum(), l.numel())  # 总量除以个数，等于平均\n",
    "    return metric[0] / metric[1]  # 返回数据集的平均损失\n",
    "\n",
    "# 训练函数\n",
    "def train(train_features, test_features, train_labels, test_labels, num_epochs=400):\n",
    "    loss = nn.MSELoss()\n",
    "    input_shape = train_features.shape[-1]\n",
    "    net = nn.Sequential(nn.Linear(input_shape, 1, bias=False)) # 单层线性回归\n",
    "    batch_size = min(10,train_labels.shape[0])\n",
    "    train_iter = d2l.load_array((train_features,train_labels.reshape(-1,1)),batch_size)\n",
    "    test_iter = d2l.load_array((test_features,test_labels.reshape(-1,1)),batch_size,is_train=False)\n",
    "    trainer = torch.optim.SGD(net.parameters(),lr=0.01)\n",
    "    animator = d2l.Animator(xlabel='epoch',ylabel='loss',yscale='log',xlim=[1,num_epochs],ylim=[1e-3,1e2],legend=['train','test'])\n",
    "    for epoch in range(num_epochs):\n",
    "        d2l.train_epoch_ch3(net, train_iter, loss, trainer)\n",
    "        if epoch == 0 or (epoch + 1) % 20 == 0:\n",
    "            animator.add(epoch + 1, (evaluate_loss(net, train_iter, loss), evaluate_loss(net,test_iter,loss)))\n",
    "    print('weight',net[0].weight.data.numpy()) # 训练完后打印，打印最终学到的weight值\n",
    "\n",
    "# 正常拟合\n",
    "# train(poly_features[:n_train,:4],poly_features[n_train:,:4],labels[:n_train],labels[n_train:])\n",
    "# 欠拟合 ——用一阶多项式拟合真实的三阶多项式\n",
    "# train(poly_features[:n_train,:2],poly_features[n_train:,:2],labels[:n_train],labels[n_train:])\n",
    "# 过拟合 ——用十九阶多项式拟合真实的三阶多项式\n",
    "# train(poly_features[:n_train,:],poly_features[n_train:,:],labels[:n_train],labels[n_train:])\n",
    "\n",
    "d2l.plt.show()"
   ],
   "metadata": {
    "collapsed": false
   }
  }
 ],
 "metadata": {
  "kernelspec": {
   "display_name": "Python 3",
   "language": "python",
   "name": "python3"
  },
  "language_info": {
   "codemirror_mode": {
    "name": "ipython",
    "version": 2
   },
   "file_extension": ".py",
   "mimetype": "text/x-python",
   "name": "python",
   "nbconvert_exporter": "python",
   "pygments_lexer": "ipython2",
   "version": "2.7.6"
  }
 },
 "nbformat": 4,
 "nbformat_minor": 0
}
