{
 "cells": [
  {
   "cell_type": "markdown",
   "source": [
    "池化层"
   ],
   "metadata": {
    "collapsed": false
   }
  },
  {
   "cell_type": "markdown",
   "source": [
    "① 二维卷积层可以帮助我们检测图像物体边缘。\n",
    "② 无论是原始图片，还是经过卷积核处理的中间特征，都是基于像素的基础进行的数学运算。\n",
    "③ 实际图像里，我们感兴趣的物体不会总出现在固定像素位置：即使我们用三脚架固定相机去连续拍摄同一个物体也极有可能出现像素位置上的偏移。\n",
    "④ 这会导致同一个物体的边缘对应的输出可能出现在卷积输出中的不同位置，进而对后面的模式识别造成不便。\n",
    "⑤ 另外，绝大多数计算机视觉任务对图像处理终极目标是识别图片内的物体，所以不需要细致到对每个像素进行检测，只需要找到图片中物体的大概轮廓就好了。\n",
    "⑥ 卷积对像素的位置是非常敏感的，池化层可以缓解卷积层对位置的过度敏感性。"
   ],
   "metadata": {
    "collapsed": false
   }
  },
  {
   "cell_type": "markdown",
   "source": [
    "最大池化层——返回滑动窗口的最大值"
   ],
   "metadata": {
    "collapsed": false
   }
  },
  {
   "cell_type": "markdown",
   "source": [
    "平均池化层——返回滑动窗口的平均值"
   ],
   "metadata": {
    "collapsed": false
   }
  },
  {
   "cell_type": "code",
   "execution_count": null,
   "outputs": [],
   "source": [
    "import torch\n",
    "from torch import nn\n",
    "from d2l import torch as d2l\n",
    "\n",
    "\n",
    "# 池化层\n",
    "def pool2d(X,pool_size,mode='max'):\n",
    "    p_h, p_w = pool_size\n",
    "    Y = torch.zeros((X.shape[0] - p_h + 1, X.shape[1] - p_w + 1))\n",
    "    for i in range(Y.shape[0]):\n",
    "        for j in range(Y.shape[1]):\n",
    "            if mode == 'max':\n",
    "                Y[i,j] = X[i:i + p_h, j:j + p_w].max()  # 最大池化层\n",
    "            elif mode == 'avg':\n",
    "                Y[i, j] = X[i:i + p_h, j:j + p_w].mean()  # 平均池化层\n",
    "    return Y\n",
    "\n",
    "\n",
    "# 验证二维最大池化层的输出\n",
    "X = torch.tensor([[0.0,1.0,2.0],[3.0,4.0,5.0],[6.0,7.0,8.0]])\n",
    "print(pool2d(X, (2,2)))\n",
    "\n",
    "# 验证平均池化层\n",
    "print(pool2d(X, (2,2), 'avg'))\n",
    "\n",
    "# 填充和步幅\n",
    "X = torch.arange(16,dtype=torch.float32).reshape((1,1,4,4))\n",
    "print(X)\n",
    "pool2d = nn.MaxPool2d(3) # 深度学习框架中的步幅默认与池化窗口的大小相同，下一个窗口和前一个窗口没有重叠的\n",
    "pool2d(X)\n",
    "\n",
    "# 填充和步幅可以手动设定\n",
    "pool2d = nn.MaxPool2d(3,padding=1,stride=2)\n",
    "print(pool2d(X))\n",
    "\n",
    "# 设定一个任意大小的矩形池化窗口，并分别设定填充和步幅的高度和宽度\n",
    "pool2d = nn.MaxPool2d((2,3),padding=(1,1),stride=(2,3))\n",
    "print(pool2d(X))\n",
    "\n",
    "# 池化层在每个通道上单独运算\n",
    "X = torch.cat((X,X+1),1)\n",
    "print(X.shape) # 合并起来，变成了1X2X4X4的矩阵\n",
    "print(X)\n",
    "\n",
    "pool2d = nn.MaxPool2d(3,padding=1,stride=2)\n",
    "print(pool2d(X))"
   ],
   "metadata": {
    "collapsed": false
   }
  }
 ],
 "metadata": {
  "kernelspec": {
   "display_name": "Python 3",
   "language": "python",
   "name": "python3"
  },
  "language_info": {
   "codemirror_mode": {
    "name": "ipython",
    "version": 2
   },
   "file_extension": ".py",
   "mimetype": "text/x-python",
   "name": "python",
   "nbconvert_exporter": "python",
   "pygments_lexer": "ipython2",
   "version": "2.7.6"
  }
 },
 "nbformat": 4,
 "nbformat_minor": 0
}
