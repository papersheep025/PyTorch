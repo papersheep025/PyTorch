{
 "cells": [
  {
   "cell_type": "markdown",
   "source": [
    "目标检测（香蕉）"
   ],
   "metadata": {
    "collapsed": false
   }
  },
  {
   "cell_type": "code",
   "execution_count": null,
   "metadata": {
    "collapsed": true
   },
   "outputs": [],
   "source": [
    "import os\n",
    "import pandas as pd\n",
    "import torch\n",
    "import torchvision\n",
    "from d2l import torch as d2l\n",
    "\n",
    "os.environ['KMP_DUPLICATE_LIB_OK'] = 'True'\n",
    "\n",
    "d2l.DATA_HUB['banana-detection'] = (d2l.DATA_URL + 'banana-detection.zip', '5de25c8fce5ccdea9f91267273465dc968d20d72')\n",
    "\n",
    "\n",
    "# 读取香蕉检测数据集\n",
    "def read_data_bananas(is_train=True):\n",
    "    data_dir = d2l.download_extract('banana-detection')\n",
    "    csv_fname = os.path.join(data_dir, 'bananas_train' if is_train else 'bananas_val', 'label.csv')\n",
    "    csv_data = pd.read_csv(csv_fname)\n",
    "    csv_data = csv_data.set_index('img_name')\n",
    "    images, targets = [], []\n",
    "    # 把图片、标号全部读到内存里面\n",
    "    for img_name, target in csv_data.iterrows():\n",
    "        images.append(torchvision.io.read_image(\n",
    "            os.path.join(data_dir, 'bananas_train' if is_train else 'bananas_val', 'images', f'{img_name}')))\n",
    "        targets.append(list(target))\n",
    "    print(\"len(targets)：\", len(targets))\n",
    "    print(\"len(targets[0])：\", len(targets[0]))\n",
    "    print(\"targets[0][0]....targets[0][4]：\", targets[0][0], targets[0][1], targets[0][2], targets[0][3], targets[0][4])\n",
    "    print(\"type(targets)：\", type(targets))\n",
    "    print(\"torch.tensor(targets).unsqueeze(1).shape：\",\n",
    "          torch.tensor(targets).unsqueeze(1).shape)  # unsqueeze函数在指定位置加上维数为一的维度\n",
    "    print(\"len(torch.tensor(targets).unsqueeze(1) / 256)：\", len(torch.tensor(targets).unsqueeze(1) / 256))\n",
    "    print(\"type(torch.tensor(targets).unsqueeze(1) / 256)：\", type(torch.tensor(targets).unsqueeze(1) / 256))\n",
    "    return images, torch.tensor(targets).unsqueeze(1) / 256  # 归一化使得收敛更快\n",
    "\n",
    "\n",
    "# 创建一个自定义Dataset实例\n",
    "class BananasDataset(torch.utils.data.Dataset):\n",
    "    def __init__(self, is_train):\n",
    "        self.features, self.labels = read_data_bananas(is_train)\n",
    "        print('read ' + str(len(self.features)) + (f' training examples' if is_train else f'validation examples'))\n",
    "\n",
    "    def __getitem__(self, idx):\n",
    "        return (self.features[idx].float(), self.labels[idx])\n",
    "\n",
    "    def __len__(self):\n",
    "        return len(self.features)\n",
    "\n",
    "\n",
    "# 为训练集和测试集返回两个数据加载器实例\n",
    "# torch.utils.data.DataLoader 是一个方便的数据加载器，\n",
    "# 它帮助我们将数据集划分成小批次，并提供了一些常用的功能来处理和增强数据\n",
    "def load_data_bananas(batch_size):\n",
    "    train_iter = torch.utils.data.DataLoader(BananasDataset(is_train=True),\n",
    "                                             batch_size, shuffle=True)\n",
    "    val_iter = torch.utils.data.DataLoader(BananasDataset(is_train=False),\n",
    "                                           batch_size)\n",
    "    return train_iter, val_iter\n",
    "\n",
    "\n",
    "# 读取一个小批量，并打印其中的图像和标签的形状\n",
    "batch_size, edge_size = 32, 256\n",
    "train_iter, _ = load_data_bananas(batch_size)\n",
    "batch = next(iter(train_iter))\n",
    "# ([32,1,5]) 中的 1是每张图片中有几种类别，这里只有一种香蕉要识别的类别\n",
    "# 5是类别标号、框的四个参数\n",
    "batch[0].shape, batch[1].shape\n",
    "print(\"原始图片:\\n\", batch[0][0])\n",
    "print(\"原始图片:\\n\", (batch[0][0:10].permute(0, 2, 3, 1)))\n",
    "print(\"归一化后图片:\\n\", (batch[0][0:10].permute(0, 2, 3, 1)) / 255)\n",
    "imgs = (batch[0][0:10].permute(0, 2, 3, 1)) / 255\n",
    "\n",
    "# 展示标签框\n",
    "axes = d2l.show_images(imgs, 2, 5, scale=2)\n",
    "for ax, label in zip(axes, batch[1][0:10]):\n",
    "    d2l.show_bboxes(ax, [label[0][1:5] * edge_size], colors=['w'])\n",
    "\n",
    "\n",
    "d2l.plt.show()"
   ]
  }
 ],
 "metadata": {
  "kernelspec": {
   "display_name": "Python 3",
   "language": "python",
   "name": "python3"
  },
  "language_info": {
   "codemirror_mode": {
    "name": "ipython",
    "version": 2
   },
   "file_extension": ".py",
   "mimetype": "text/x-python",
   "name": "python",
   "nbconvert_exporter": "python",
   "pygments_lexer": "ipython2",
   "version": "2.7.6"
  }
 },
 "nbformat": 4,
 "nbformat_minor": 0
}
