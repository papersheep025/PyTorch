{
 "cells": [
  {
   "cell_type": "markdown",
   "source": [
    "DeGPR(Deep Guided Posterior Regularization for Multi-Class Cell Detection and Counting)"
   ],
   "metadata": {
    "collapsed": false
   }
  },
  {
   "cell_type": "markdown",
   "source": [
    "DeGPR通过引导对象检测器利用细胞之间的判别特征来辅助对象检测器进行检测(assists an object detector by guiding it to exploit discriminative features among cells)"
   ],
   "metadata": {
    "collapsed": false
   }
  },
  {
   "cell_type": "markdown",
   "source": [
    "   虽然存在多种通用的、基于深度学习的对象检测和计数方法，但由于数据有限、存在微小的重叠物体、多种细胞类型、严重的类别不平衡、细胞大小/形状的微小差异等问题，它们可能不容易转移到医学图像中的细胞检测和计数。\n",
    "   因此，我们使用DeGPR，它通过引导对象检测器，利用单元之间的判别特征来辅助对象检测器，而且这些特征可以由病理学家提供或直接从视觉数据推断。\n",
    "   我们在两个公开可用的数据集（CoNSeP和MoNuSAC）和MuCeD（我们贡献的新数据集，由55张人类十二指肠活检图像组成，用于预测乳糜泻）上验证了我们的模型。\n",
    "   我们在三个数据集上使用三个对象检测基线进行了广泛的实验，以表明DE探地雷达与模型无关，并持续改进基线，获得了高达 9%（绝对）的 mAP 增益。"
   ],
   "metadata": {
    "collapsed": false
   }
  },
  {
   "cell_type": "code",
   "execution_count": null,
   "metadata": {
    "collapsed": true
   },
   "outputs": [],
   "source": []
  }
 ],
 "metadata": {
  "kernelspec": {
   "display_name": "Python 3",
   "language": "python",
   "name": "python3"
  },
  "language_info": {
   "codemirror_mode": {
    "name": "ipython",
    "version": 2
   },
   "file_extension": ".py",
   "mimetype": "text/x-python",
   "name": "python",
   "nbconvert_exporter": "python",
   "pygments_lexer": "ipython2",
   "version": "2.7.6"
  }
 },
 "nbformat": 4,
 "nbformat_minor": 0
}
